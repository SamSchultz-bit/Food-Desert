{
 "cells": [
  {
   "cell_type": "code",
   "execution_count": 111,
   "metadata": {},
   "outputs": [],
   "source": [
    "import requests \n",
    "from bs4 import BeautifulSoup\n",
    "import time \n",
    "import pandas as pd \n",
    "import os \n"
   ]
  },
  {
   "cell_type": "code",
   "execution_count": 112,
   "metadata": {},
   "outputs": [],
   "source": [
    "# **Function to Get Listing Links from a Search Page**\n",
    "def get_listing_links(search_url):\n",
    "    \"\"\"Extracts individual store listing links from a Yelp search page.\"\"\"\n",
    "\n",
    "    response = requests.get(search_url)\n",
    "    response.raise_for_status() \n",
    "\n",
    "    soup = BeautifulSoup(response.content, 'html.parser')\n",
    "    listings = soup.select(\"div.container__098Hl\")  # Adjust CSS selector if needed\n",
    "\n",
    "    links = []\n",
    "    for listing in listings:\n",
    "        link = listing.find('a', class_='css-1m051bw')['href']  \n",
    "        links.append(base_url + link)\n",
    "\n",
    "    return links \n",
    "\n"
   ]
  },
  {
   "cell_type": "code",
   "execution_count": null,
   "metadata": {},
   "outputs": [],
   "source": []
  },
  {
   "cell_type": "code",
   "execution_count": 113,
   "metadata": {},
   "outputs": [],
   "source": [
    "# **Function to Extract Individual Store Details**\n",
    "def extract_store_details(store_url):\n",
    "    \"\"\"Scrapes details of a specific store\"\"\"\n",
    "    response = requests.get(store_url)\n",
    "    response.raise_for_status()\n",
    "\n",
    "    soup = BeautifulSoup(response.content, 'html.parser')\n",
    "\n",
    "    store_data = {}\n",
    "\n",
    "    # PLACEHOLDER: Replace with your CSS selectors \n",
    "    store_data['name'] = soup.select_one('h1.css-m7s08c').text.strip()\n",
    "    store_data['address'] = soup.select_one('address.css-1h1j0l3').get_text(strip=True)\n",
    "\n",
    "    # ... Add category extraction (might need more complex logic) ...\n",
    "\n",
    "    return store_data\n"
   ]
  },
  {
   "cell_type": "code",
   "execution_count": 118,
   "metadata": {},
   "outputs": [],
   "source": [
    "# **Main Scraping Function**\n",
    "def scrape_yelp(location, search_term):\n",
    "    \"\"\"Scrapes Yelp listings over multiple pages.\"\"\"\n",
    "\n",
    "    results = []\n",
    "    start = 0\n",
    "    search_url = f\"{base_url}/search?find_desc={search_term}&find_loc={location}&start={start}\"\n",
    "\n",
    "    while True:\n",
    "        listing_links = get_listing_links(search_url)\n",
    "\n",
    "        for link in listing_links:\n",
    "            store_data = extract_store_details(link)\n",
    "            results.append(store_data)\n",
    "\n",
    "        start += 10  \n",
    "        time.sleep(2) \n",
    "\n",
    "        if not listing_links: \n",
    "            break \n",
    "\n",
    "    # Create DataFrame and save the results\n",
    "    df = pd.DataFrame(results) \n",
    "    output_folder = 'data/raw'\n",
    "    output_filename = 'yelp_stores_minneapolis.csv'\n",
    "    output_path = os.path.join(output_folder, output_filename)\n",
    "    os.makedirs(output_folder, exist_ok=True)  # Ensure output folder exists\n",
    "    df.to_csv(output_path, index=False) \n",
    "    print(results)"
   ]
  },
  {
   "cell_type": "code",
   "execution_count": 119,
   "metadata": {},
   "outputs": [],
   "source": [
    "# **Set Your Parameters**\n",
    "base_url = \"https://www.yelp.com\"\n",
    "location = \"Minneapolis, MN\"\n",
    "search_term = \"grocery store\"\n"
   ]
  },
  {
   "cell_type": "code",
   "execution_count": 120,
   "metadata": {},
   "outputs": [
    {
     "name": "stdout",
     "output_type": "stream",
     "text": [
      "[]\n"
     ]
    }
   ],
   "source": [
    "# **Start the Scraping!**\n",
    "scrape_yelp(location, search_term)"
   ]
  },
  {
   "cell_type": "code",
   "execution_count": 117,
   "metadata": {},
   "outputs": [
    {
     "ename": "NameError",
     "evalue": "name 'links' is not defined",
     "output_type": "error",
     "traceback": [
      "\u001b[0;31m---------------------------------------------------------------------------\u001b[0m",
      "\u001b[0;31mNameError\u001b[0m                                 Traceback (most recent call last)",
      "Cell \u001b[0;32mIn[117], line 1\u001b[0m\n\u001b[0;32m----> 1\u001b[0m \u001b[38;5;28mprint\u001b[39m(\u001b[43mlinks\u001b[49m)\n\u001b[1;32m      2\u001b[0m \u001b[38;5;28mprint\u001b[39m(store_data)\n\u001b[1;32m      3\u001b[0m \u001b[38;5;28mprint\u001b[39m(df)\n",
      "\u001b[0;31mNameError\u001b[0m: name 'links' is not defined"
     ]
    }
   ],
   "source": []
  }
 ],
 "metadata": {
  "kernelspec": {
   "display_name": "dev",
   "language": "python",
   "name": "python3"
  },
  "language_info": {
   "codemirror_mode": {
    "name": "ipython",
    "version": 3
   },
   "file_extension": ".py",
   "mimetype": "text/x-python",
   "name": "python",
   "nbconvert_exporter": "python",
   "pygments_lexer": "ipython3",
   "version": "3.12.2"
  }
 },
 "nbformat": 4,
 "nbformat_minor": 2
}
