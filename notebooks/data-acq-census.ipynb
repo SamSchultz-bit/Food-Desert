{
 "cells": [
  {
   "cell_type": "code",
   "execution_count": 17,
   "metadata": {},
   "outputs": [
    {
     "ename": "Exception",
     "evalue": "Census API Error: Status Code 400 - error: error: unknown variable 'B01003'",
     "output_type": "error",
     "traceback": [
      "\u001b[0;31m---------------------------------------------------------------------------\u001b[0m",
      "\u001b[0;31mException\u001b[0m                                 Traceback (most recent call last)",
      "Cell \u001b[0;32mIn[17], line 38\u001b[0m\n\u001b[1;32m     35\u001b[0m county_fips \u001b[38;5;241m=\u001b[39m \u001b[38;5;124m\"\u001b[39m\u001b[38;5;124m053\u001b[39m\u001b[38;5;124m\"\u001b[39m\n\u001b[1;32m     37\u001b[0m \u001b[38;5;66;03m# Fetch the Census Data\u001b[39;00m\n\u001b[0;32m---> 38\u001b[0m census_df \u001b[38;5;241m=\u001b[39m \u001b[43mget_census_data\u001b[49m\u001b[43m(\u001b[49m\u001b[43mstate_fips\u001b[49m\u001b[43m,\u001b[49m\u001b[43m \u001b[49m\u001b[43mcounty_fips\u001b[49m\u001b[43m,\u001b[49m\u001b[43m \u001b[49m\u001b[43mselected_groups\u001b[49m\u001b[43m)\u001b[49m\n\u001b[1;32m     40\u001b[0m \u001b[38;5;66;03m# Print for initial inspection \u001b[39;00m\n\u001b[1;32m     41\u001b[0m \u001b[38;5;28mprint\u001b[39m(census_df)  \n",
      "Cell \u001b[0;32mIn[17], line 31\u001b[0m, in \u001b[0;36mget_census_data\u001b[0;34m(state, county, groups, tracts)\u001b[0m\n\u001b[1;32m     29\u001b[0m     \u001b[38;5;28;01mreturn\u001b[39;00m pd\u001b[38;5;241m.\u001b[39mDataFrame(data[\u001b[38;5;241m1\u001b[39m:], columns\u001b[38;5;241m=\u001b[39mdata[\u001b[38;5;241m0\u001b[39m]) \n\u001b[1;32m     30\u001b[0m \u001b[38;5;28;01melse\u001b[39;00m:\n\u001b[0;32m---> 31\u001b[0m     \u001b[38;5;28;01mraise\u001b[39;00m \u001b[38;5;167;01mException\u001b[39;00m(\u001b[38;5;124mf\u001b[39m\u001b[38;5;124m\"\u001b[39m\u001b[38;5;124mCensus API Error: Status Code \u001b[39m\u001b[38;5;132;01m{\u001b[39;00mresponse\u001b[38;5;241m.\u001b[39mstatus_code\u001b[38;5;132;01m}\u001b[39;00m\u001b[38;5;124m - \u001b[39m\u001b[38;5;132;01m{\u001b[39;00mresponse\u001b[38;5;241m.\u001b[39mtext\u001b[38;5;132;01m}\u001b[39;00m\u001b[38;5;124m\"\u001b[39m)\n",
      "\u001b[0;31mException\u001b[0m: Census API Error: Status Code 400 - error: error: unknown variable 'B01003'"
     ]
    }
   ],
   "source": [
    "import requests\n",
    "import pandas as pd\n",
    "import json\n",
    "\n",
    "# Loading config file\n",
    "def load_config():\n",
    "    with open('config.json') as f:\n",
    "        return json.load(f)\n",
    "\n",
    "config = load_config()\n",
    "api_key = config['census_api_key']\n",
    "\n",
    "base_url = \"https://api.census.gov/data/2019/acs/acs5\"  \n",
    "\n",
    "# Group Variables (Populate this with unique group codes from your desired variables)\n",
    "selected_groups = [\"B01003\", \"B19013E\", \"C02003\", \"B05010\", \"B08201\", \"B19123\"] \n",
    "\n",
    "def get_census_data(state, county, groups, tracts=\"all\"):\n",
    "    params = {\n",
    "        \"get\": \"NAME,\" + \",\".join(groups), \n",
    "        \"for\": f\"tract:{tracts}\",\n",
    "        \"in\": f\"state:{state} county:{county}\", \n",
    "        \"key\": api_key\n",
    "    }\n",
    "    response = requests.get(base_url, params=params)\n",
    "\n",
    "    if response.status_code == 200:\n",
    "        data = response.json()\n",
    "        return pd.DataFrame(data[1:], columns=data[0]) \n",
    "    else:\n",
    "        raise Exception(f\"Census API Error: Status Code {response.status_code} - {response.text}\") \n",
    "\n",
    "# FIPS Codes for Minneapolis, MN\n",
    "state_fips = \"27\" \n",
    "county_fips = \"053\"\n",
    "\n",
    "# Fetch the Census Data\n",
    "census_df = get_census_data(state_fips, county_fips, selected_groups)\n",
    "\n",
    "# Print for initial inspection \n",
    "print(census_df)  \n",
    "\n",
    "# TODO: Data Cleaning, Merging with food desert and Yelp data, Analysis, Visualization \n",
    "\n",
    "\n"
   ]
  }
 ],
 "metadata": {
  "kernelspec": {
   "display_name": "food-desert-project",
   "language": "python",
   "name": "python3"
  },
  "language_info": {
   "codemirror_mode": {
    "name": "ipython",
    "version": 3
   },
   "file_extension": ".py",
   "mimetype": "text/x-python",
   "name": "python",
   "nbconvert_exporter": "python",
   "pygments_lexer": "ipython3",
   "version": "3.9.18"
  }
 },
 "nbformat": 4,
 "nbformat_minor": 2
}
